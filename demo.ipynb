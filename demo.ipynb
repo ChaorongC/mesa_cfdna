{
 "cells": [
  {
   "attachments": {},
   "cell_type": "markdown",
   "id": "52535d63",
   "metadata": {},
   "source": [
    "**Author**: Chaorong Chen (c.chen@uci.edu)\n",
    "\n",
    "**Content**: This Jupyter notebook demonstrates briefly how to use MESA to analyze various types of features/datasets, build a single modality, and integrate the results of the single modality into a multimodality. In this case, we generated two datasets at random for demonstration purposes, all with identical sample labels. The results showed that multimodality outperformed single-modality by taking informatic features from both single-modalities.\n"
   ]
  },
  {
   "attachments": {},
   "cell_type": "markdown",
   "id": "6eda8d48",
   "metadata": {},
   "source": [
    "# Import\n"
   ]
  },
  {
   "cell_type": "code",
   "execution_count": 1,
   "id": "ada51a74",
   "metadata": {
    "ExecuteTime": {
     "end_time": "2022-07-21T05:35:08.256041Z",
     "start_time": "2022-07-21T05:35:08.253116Z"
    },
    "execution": {
     "iopub.execute_input": "2025-05-24T00:12:54.907098Z",
     "iopub.status.busy": "2025-05-24T00:12:54.906940Z",
     "iopub.status.idle": "2025-05-24T00:13:16.483661Z",
     "shell.execute_reply": "2025-05-24T00:13:16.483244Z",
     "shell.execute_reply.started": "2025-05-24T00:12:54.907082Z"
    }
   },
   "outputs": [],
   "source": [
    "from mesa import *\n",
    "import matplotlib.pyplot as plt\n",
    "from sklearn.metrics import roc_curve\n",
    "from sklearn.datasets import make_classification"
   ]
  },
  {
   "cell_type": "code",
   "execution_count": 3,
   "id": "f287648e",
   "metadata": {
    "ExecuteTime": {
     "end_time": "2022-07-21T05:35:38.844956Z",
     "start_time": "2022-07-21T05:35:38.840722Z"
    },
    "execution": {
     "iopub.execute_input": "2025-05-24T00:13:16.502567Z",
     "iopub.status.busy": "2025-05-24T00:13:16.502424Z",
     "iopub.status.idle": "2025-05-24T00:13:16.505211Z",
     "shell.execute_reply": "2025-05-24T00:13:16.504825Z",
     "shell.execute_reply.started": "2025-05-24T00:13:16.502553Z"
    }
   },
   "outputs": [],
   "source": [
    "def plot_ROC(y_true, y_pred):\n",
    "    fpr, tpr, _ = roc_curve(y_true, y_pred)\n",
    "    auc = roc_auc_score(y_true, y_pred)\n",
    "    plt.plot(fpr, tpr, label=\"AUC=\" + str(auc))\n",
    "    plt.ylabel(\"True Positive Rate\")\n",
    "    plt.xlabel(\"False Positive Rate\")\n",
    "    plt.legend(loc=4)\n",
    "    plt.show()\n"
   ]
  },
  {
   "attachments": {},
   "cell_type": "markdown",
   "id": "0a0d2fdf",
   "metadata": {},
   "source": [
    "# Create random datasets for testing\n"
   ]
  },
  {
   "cell_type": "code",
   "execution_count": 4,
   "id": "fc2a4968",
   "metadata": {
    "execution": {
     "iopub.execute_input": "2025-05-24T00:13:16.506857Z",
     "iopub.status.busy": "2025-05-24T00:13:16.506716Z",
     "iopub.status.idle": "2025-05-24T00:13:16.519426Z",
     "shell.execute_reply": "2025-05-24T00:13:16.519097Z",
     "shell.execute_reply.started": "2025-05-24T00:13:16.506844Z"
    }
   },
   "outputs": [],
   "source": [
    "sample_size = 100\n",
    "dataset1, label = make_classification(\n",
    "    n_samples=sample_size,\n",
    "    n_features=50,\n",
    "    n_informative=30,\n",
    "    n_redundant=5,\n",
    "    random_state=0,\n",
    "    shuffle=False,\n",
    ")\n",
    "\n",
    "dataset2, label_ = make_classification(\n",
    "    n_samples=sample_size,\n",
    "    n_features=40,\n",
    "    n_informative=20,\n",
    "    n_redundant=5,\n",
    "    random_state=0,\n",
    "    shuffle=False,\n",
    ")"
   ]
  },
  {
   "cell_type": "code",
   "execution_count": 5,
   "id": "33875d97",
   "metadata": {
    "execution": {
     "iopub.execute_input": "2025-05-24T00:13:16.521101Z",
     "iopub.status.busy": "2025-05-24T00:13:16.520947Z",
     "iopub.status.idle": "2025-05-24T00:13:16.525760Z",
     "shell.execute_reply": "2025-05-24T00:13:16.525410Z",
     "shell.execute_reply.started": "2025-05-24T00:13:16.521087Z"
    }
   },
   "outputs": [],
   "source": [
    "dataset1 = pd.DataFrame(\n",
    "    dataset1,\n",
    "    columns=[\"feature_1_\" + str(_) for _ in range(50)],\n",
    "    index=[(\"Cancer\" if _ == 1 else \"Normal\") for _ in label],\n",
    ")\n",
    "dataset2 = pd.DataFrame(\n",
    "    dataset2,\n",
    "    columns=[\"feature_2_\" + str(_) for _ in range(40)],\n",
    "    index=[(\"Cancer\" if _ == 1 else \"Normal\") for _ in label],\n",
    ")"
   ]
  },
  {
   "cell_type": "code",
   "execution_count": 6,
   "id": "c72afdcc",
   "metadata": {
    "ExecuteTime": {
     "end_time": "2022-07-21T05:56:59.692981Z",
     "start_time": "2022-07-21T05:56:59.671922Z"
    },
    "execution": {
     "iopub.execute_input": "2025-05-24T00:13:16.527368Z",
     "iopub.status.busy": "2025-05-24T00:13:16.527224Z",
     "iopub.status.idle": "2025-05-24T00:13:16.562362Z",
     "shell.execute_reply": "2025-05-24T00:13:16.562024Z",
     "shell.execute_reply.started": "2025-05-24T00:13:16.527354Z"
    }
   },
   "outputs": [
    {
     "data": {
      "text/html": [
       "<div>\n",
       "<style scoped>\n",
       "    .dataframe tbody tr th:only-of-type {\n",
       "        vertical-align: middle;\n",
       "    }\n",
       "\n",
       "    .dataframe tbody tr th {\n",
       "        vertical-align: top;\n",
       "    }\n",
       "\n",
       "    .dataframe thead th {\n",
       "        text-align: right;\n",
       "    }\n",
       "</style>\n",
       "<table border=\"1\" class=\"dataframe\">\n",
       "  <thead>\n",
       "    <tr style=\"text-align: right;\">\n",
       "      <th></th>\n",
       "      <th>feature_1_0</th>\n",
       "      <th>feature_1_1</th>\n",
       "      <th>feature_1_2</th>\n",
       "      <th>feature_1_3</th>\n",
       "      <th>feature_1_4</th>\n",
       "      <th>feature_1_5</th>\n",
       "      <th>feature_1_6</th>\n",
       "      <th>feature_1_7</th>\n",
       "      <th>feature_1_8</th>\n",
       "      <th>feature_1_9</th>\n",
       "      <th>...</th>\n",
       "      <th>feature_1_40</th>\n",
       "      <th>feature_1_41</th>\n",
       "      <th>feature_1_42</th>\n",
       "      <th>feature_1_43</th>\n",
       "      <th>feature_1_44</th>\n",
       "      <th>feature_1_45</th>\n",
       "      <th>feature_1_46</th>\n",
       "      <th>feature_1_47</th>\n",
       "      <th>feature_1_48</th>\n",
       "      <th>feature_1_49</th>\n",
       "    </tr>\n",
       "  </thead>\n",
       "  <tbody>\n",
       "    <tr>\n",
       "      <th>Normal</th>\n",
       "      <td>1.287909</td>\n",
       "      <td>-2.814107</td>\n",
       "      <td>5.473369</td>\n",
       "      <td>1.000398</td>\n",
       "      <td>-5.377724</td>\n",
       "      <td>2.578407</td>\n",
       "      <td>4.957609</td>\n",
       "      <td>5.549194</td>\n",
       "      <td>4.521393</td>\n",
       "      <td>-0.673910</td>\n",
       "      <td>...</td>\n",
       "      <td>-0.808648</td>\n",
       "      <td>-1.090128</td>\n",
       "      <td>-0.310668</td>\n",
       "      <td>-0.163263</td>\n",
       "      <td>-0.460341</td>\n",
       "      <td>-1.334141</td>\n",
       "      <td>0.515452</td>\n",
       "      <td>-0.489945</td>\n",
       "      <td>0.303284</td>\n",
       "      <td>2.452996</td>\n",
       "    </tr>\n",
       "    <tr>\n",
       "      <th>Normal</th>\n",
       "      <td>-4.771543</td>\n",
       "      <td>-0.241228</td>\n",
       "      <td>-2.369615</td>\n",
       "      <td>-0.113842</td>\n",
       "      <td>1.897924</td>\n",
       "      <td>-3.769209</td>\n",
       "      <td>-4.266361</td>\n",
       "      <td>-0.306406</td>\n",
       "      <td>0.938812</td>\n",
       "      <td>-1.595650</td>\n",
       "      <td>...</td>\n",
       "      <td>0.233836</td>\n",
       "      <td>-1.139200</td>\n",
       "      <td>-0.010400</td>\n",
       "      <td>-0.520939</td>\n",
       "      <td>-1.089221</td>\n",
       "      <td>-0.346203</td>\n",
       "      <td>-1.845407</td>\n",
       "      <td>-2.598922</td>\n",
       "      <td>0.198222</td>\n",
       "      <td>-0.484180</td>\n",
       "    </tr>\n",
       "    <tr>\n",
       "      <th>Normal</th>\n",
       "      <td>-6.221846</td>\n",
       "      <td>-0.895383</td>\n",
       "      <td>-5.402450</td>\n",
       "      <td>0.800162</td>\n",
       "      <td>-4.350093</td>\n",
       "      <td>-1.379873</td>\n",
       "      <td>-2.861613</td>\n",
       "      <td>-3.933458</td>\n",
       "      <td>0.162566</td>\n",
       "      <td>3.951797</td>\n",
       "      <td>...</td>\n",
       "      <td>-0.011214</td>\n",
       "      <td>1.344760</td>\n",
       "      <td>-0.831492</td>\n",
       "      <td>-0.407972</td>\n",
       "      <td>-1.330804</td>\n",
       "      <td>0.352599</td>\n",
       "      <td>-0.537885</td>\n",
       "      <td>0.393444</td>\n",
       "      <td>0.286518</td>\n",
       "      <td>2.042536</td>\n",
       "    </tr>\n",
       "    <tr>\n",
       "      <th>Normal</th>\n",
       "      <td>-2.707960</td>\n",
       "      <td>-2.634845</td>\n",
       "      <td>-0.249780</td>\n",
       "      <td>-6.051963</td>\n",
       "      <td>-2.625645</td>\n",
       "      <td>-7.131393</td>\n",
       "      <td>-6.267024</td>\n",
       "      <td>-3.482308</td>\n",
       "      <td>-0.386723</td>\n",
       "      <td>0.013046</td>\n",
       "      <td>...</td>\n",
       "      <td>-1.286241</td>\n",
       "      <td>-1.654657</td>\n",
       "      <td>0.037233</td>\n",
       "      <td>1.270301</td>\n",
       "      <td>-0.143277</td>\n",
       "      <td>0.795255</td>\n",
       "      <td>-0.072072</td>\n",
       "      <td>-0.742424</td>\n",
       "      <td>1.225654</td>\n",
       "      <td>-2.205388</td>\n",
       "    </tr>\n",
       "    <tr>\n",
       "      <th>Normal</th>\n",
       "      <td>-4.544210</td>\n",
       "      <td>-8.059180</td>\n",
       "      <td>1.540083</td>\n",
       "      <td>2.278422</td>\n",
       "      <td>0.945999</td>\n",
       "      <td>0.502495</td>\n",
       "      <td>2.860353</td>\n",
       "      <td>2.883449</td>\n",
       "      <td>-0.872265</td>\n",
       "      <td>-0.587037</td>\n",
       "      <td>...</td>\n",
       "      <td>-0.163390</td>\n",
       "      <td>-0.320882</td>\n",
       "      <td>-0.403431</td>\n",
       "      <td>-0.664067</td>\n",
       "      <td>-0.116287</td>\n",
       "      <td>-0.416404</td>\n",
       "      <td>-0.210625</td>\n",
       "      <td>2.611800</td>\n",
       "      <td>-0.817096</td>\n",
       "      <td>0.229693</td>\n",
       "    </tr>\n",
       "  </tbody>\n",
       "</table>\n",
       "<p>5 rows × 50 columns</p>\n",
       "</div>"
      ],
      "text/plain": [
       "        feature_1_0  feature_1_1  feature_1_2  feature_1_3  feature_1_4  \\\n",
       "Normal     1.287909    -2.814107     5.473369     1.000398    -5.377724   \n",
       "Normal    -4.771543    -0.241228    -2.369615    -0.113842     1.897924   \n",
       "Normal    -6.221846    -0.895383    -5.402450     0.800162    -4.350093   \n",
       "Normal    -2.707960    -2.634845    -0.249780    -6.051963    -2.625645   \n",
       "Normal    -4.544210    -8.059180     1.540083     2.278422     0.945999   \n",
       "\n",
       "        feature_1_5  feature_1_6  feature_1_7  feature_1_8  feature_1_9  ...  \\\n",
       "Normal     2.578407     4.957609     5.549194     4.521393    -0.673910  ...   \n",
       "Normal    -3.769209    -4.266361    -0.306406     0.938812    -1.595650  ...   \n",
       "Normal    -1.379873    -2.861613    -3.933458     0.162566     3.951797  ...   \n",
       "Normal    -7.131393    -6.267024    -3.482308    -0.386723     0.013046  ...   \n",
       "Normal     0.502495     2.860353     2.883449    -0.872265    -0.587037  ...   \n",
       "\n",
       "        feature_1_40  feature_1_41  feature_1_42  feature_1_43  feature_1_44  \\\n",
       "Normal     -0.808648     -1.090128     -0.310668     -0.163263     -0.460341   \n",
       "Normal      0.233836     -1.139200     -0.010400     -0.520939     -1.089221   \n",
       "Normal     -0.011214      1.344760     -0.831492     -0.407972     -1.330804   \n",
       "Normal     -1.286241     -1.654657      0.037233      1.270301     -0.143277   \n",
       "Normal     -0.163390     -0.320882     -0.403431     -0.664067     -0.116287   \n",
       "\n",
       "        feature_1_45  feature_1_46  feature_1_47  feature_1_48  feature_1_49  \n",
       "Normal     -1.334141      0.515452     -0.489945      0.303284      2.452996  \n",
       "Normal     -0.346203     -1.845407     -2.598922      0.198222     -0.484180  \n",
       "Normal      0.352599     -0.537885      0.393444      0.286518      2.042536  \n",
       "Normal      0.795255     -0.072072     -0.742424      1.225654     -2.205388  \n",
       "Normal     -0.416404     -0.210625      2.611800     -0.817096      0.229693  \n",
       "\n",
       "[5 rows x 50 columns]"
      ]
     },
     "execution_count": 6,
     "metadata": {},
     "output_type": "execute_result"
    }
   ],
   "source": [
    "dataset1.head()"
   ]
  },
  {
   "cell_type": "code",
   "execution_count": 7,
   "id": "44465c47",
   "metadata": {
    "ExecuteTime": {
     "end_time": "2022-07-21T05:57:00.729050Z",
     "start_time": "2022-07-21T05:57:00.709843Z"
    },
    "execution": {
     "iopub.execute_input": "2025-05-24T00:13:16.564200Z",
     "iopub.status.busy": "2025-05-24T00:13:16.563888Z",
     "iopub.status.idle": "2025-05-24T00:13:16.577347Z",
     "shell.execute_reply": "2025-05-24T00:13:16.577016Z",
     "shell.execute_reply.started": "2025-05-24T00:13:16.564187Z"
    },
    "scrolled": true
   },
   "outputs": [
    {
     "data": {
      "text/html": [
       "<div>\n",
       "<style scoped>\n",
       "    .dataframe tbody tr th:only-of-type {\n",
       "        vertical-align: middle;\n",
       "    }\n",
       "\n",
       "    .dataframe tbody tr th {\n",
       "        vertical-align: top;\n",
       "    }\n",
       "\n",
       "    .dataframe thead th {\n",
       "        text-align: right;\n",
       "    }\n",
       "</style>\n",
       "<table border=\"1\" class=\"dataframe\">\n",
       "  <thead>\n",
       "    <tr style=\"text-align: right;\">\n",
       "      <th></th>\n",
       "      <th>feature_2_0</th>\n",
       "      <th>feature_2_1</th>\n",
       "      <th>feature_2_2</th>\n",
       "      <th>feature_2_3</th>\n",
       "      <th>feature_2_4</th>\n",
       "      <th>feature_2_5</th>\n",
       "      <th>feature_2_6</th>\n",
       "      <th>feature_2_7</th>\n",
       "      <th>feature_2_8</th>\n",
       "      <th>feature_2_9</th>\n",
       "      <th>...</th>\n",
       "      <th>feature_2_30</th>\n",
       "      <th>feature_2_31</th>\n",
       "      <th>feature_2_32</th>\n",
       "      <th>feature_2_33</th>\n",
       "      <th>feature_2_34</th>\n",
       "      <th>feature_2_35</th>\n",
       "      <th>feature_2_36</th>\n",
       "      <th>feature_2_37</th>\n",
       "      <th>feature_2_38</th>\n",
       "      <th>feature_2_39</th>\n",
       "    </tr>\n",
       "  </thead>\n",
       "  <tbody>\n",
       "    <tr>\n",
       "      <th>Normal</th>\n",
       "      <td>0.587537</td>\n",
       "      <td>2.054228</td>\n",
       "      <td>2.482452</td>\n",
       "      <td>1.987293</td>\n",
       "      <td>-0.225705</td>\n",
       "      <td>-0.316794</td>\n",
       "      <td>-5.122716</td>\n",
       "      <td>-3.531124</td>\n",
       "      <td>-0.876153</td>\n",
       "      <td>0.386240</td>\n",
       "      <td>...</td>\n",
       "      <td>1.612729</td>\n",
       "      <td>1.514182</td>\n",
       "      <td>0.231019</td>\n",
       "      <td>-1.099532</td>\n",
       "      <td>0.087001</td>\n",
       "      <td>0.047305</td>\n",
       "      <td>0.239624</td>\n",
       "      <td>-0.978221</td>\n",
       "      <td>-1.523000</td>\n",
       "      <td>0.162363</td>\n",
       "    </tr>\n",
       "    <tr>\n",
       "      <th>Normal</th>\n",
       "      <td>1.047819</td>\n",
       "      <td>-3.198545</td>\n",
       "      <td>0.431850</td>\n",
       "      <td>3.980836</td>\n",
       "      <td>-0.711914</td>\n",
       "      <td>1.590138</td>\n",
       "      <td>-0.367283</td>\n",
       "      <td>-5.113099</td>\n",
       "      <td>-1.915103</td>\n",
       "      <td>-1.739222</td>\n",
       "      <td>...</td>\n",
       "      <td>-0.743228</td>\n",
       "      <td>-0.395222</td>\n",
       "      <td>-0.825779</td>\n",
       "      <td>0.089620</td>\n",
       "      <td>-1.905818</td>\n",
       "      <td>-0.568086</td>\n",
       "      <td>-0.515757</td>\n",
       "      <td>1.263930</td>\n",
       "      <td>0.150698</td>\n",
       "      <td>0.695518</td>\n",
       "    </tr>\n",
       "    <tr>\n",
       "      <th>Normal</th>\n",
       "      <td>4.119862</td>\n",
       "      <td>0.357263</td>\n",
       "      <td>2.497668</td>\n",
       "      <td>2.361794</td>\n",
       "      <td>0.545406</td>\n",
       "      <td>0.023542</td>\n",
       "      <td>-2.063180</td>\n",
       "      <td>1.454372</td>\n",
       "      <td>1.124741</td>\n",
       "      <td>-1.641444</td>\n",
       "      <td>...</td>\n",
       "      <td>0.182100</td>\n",
       "      <td>0.945539</td>\n",
       "      <td>-0.201385</td>\n",
       "      <td>1.510525</td>\n",
       "      <td>-0.571478</td>\n",
       "      <td>0.665589</td>\n",
       "      <td>0.003616</td>\n",
       "      <td>1.546672</td>\n",
       "      <td>0.214406</td>\n",
       "      <td>-1.877313</td>\n",
       "    </tr>\n",
       "    <tr>\n",
       "      <th>Normal</th>\n",
       "      <td>0.163917</td>\n",
       "      <td>-2.979125</td>\n",
       "      <td>2.081287</td>\n",
       "      <td>1.297267</td>\n",
       "      <td>-2.326978</td>\n",
       "      <td>-1.665403</td>\n",
       "      <td>-1.694075</td>\n",
       "      <td>1.194223</td>\n",
       "      <td>-1.432739</td>\n",
       "      <td>-0.581854</td>\n",
       "      <td>...</td>\n",
       "      <td>0.599987</td>\n",
       "      <td>-0.768383</td>\n",
       "      <td>-0.836130</td>\n",
       "      <td>1.810582</td>\n",
       "      <td>-0.787033</td>\n",
       "      <td>-0.584771</td>\n",
       "      <td>-1.708321</td>\n",
       "      <td>1.629982</td>\n",
       "      <td>0.397998</td>\n",
       "      <td>0.237780</td>\n",
       "    </tr>\n",
       "    <tr>\n",
       "      <th>Normal</th>\n",
       "      <td>4.574918</td>\n",
       "      <td>-3.519502</td>\n",
       "      <td>3.023815</td>\n",
       "      <td>-0.985212</td>\n",
       "      <td>1.360107</td>\n",
       "      <td>1.592550</td>\n",
       "      <td>2.360250</td>\n",
       "      <td>-6.157739</td>\n",
       "      <td>4.505007</td>\n",
       "      <td>-3.852737</td>\n",
       "      <td>...</td>\n",
       "      <td>1.311427</td>\n",
       "      <td>-0.018429</td>\n",
       "      <td>-0.323289</td>\n",
       "      <td>0.236225</td>\n",
       "      <td>-0.752582</td>\n",
       "      <td>0.045113</td>\n",
       "      <td>3.427539</td>\n",
       "      <td>0.604682</td>\n",
       "      <td>1.668311</td>\n",
       "      <td>-0.355083</td>\n",
       "    </tr>\n",
       "  </tbody>\n",
       "</table>\n",
       "<p>5 rows × 40 columns</p>\n",
       "</div>"
      ],
      "text/plain": [
       "        feature_2_0  feature_2_1  feature_2_2  feature_2_3  feature_2_4  \\\n",
       "Normal     0.587537     2.054228     2.482452     1.987293    -0.225705   \n",
       "Normal     1.047819    -3.198545     0.431850     3.980836    -0.711914   \n",
       "Normal     4.119862     0.357263     2.497668     2.361794     0.545406   \n",
       "Normal     0.163917    -2.979125     2.081287     1.297267    -2.326978   \n",
       "Normal     4.574918    -3.519502     3.023815    -0.985212     1.360107   \n",
       "\n",
       "        feature_2_5  feature_2_6  feature_2_7  feature_2_8  feature_2_9  ...  \\\n",
       "Normal    -0.316794    -5.122716    -3.531124    -0.876153     0.386240  ...   \n",
       "Normal     1.590138    -0.367283    -5.113099    -1.915103    -1.739222  ...   \n",
       "Normal     0.023542    -2.063180     1.454372     1.124741    -1.641444  ...   \n",
       "Normal    -1.665403    -1.694075     1.194223    -1.432739    -0.581854  ...   \n",
       "Normal     1.592550     2.360250    -6.157739     4.505007    -3.852737  ...   \n",
       "\n",
       "        feature_2_30  feature_2_31  feature_2_32  feature_2_33  feature_2_34  \\\n",
       "Normal      1.612729      1.514182      0.231019     -1.099532      0.087001   \n",
       "Normal     -0.743228     -0.395222     -0.825779      0.089620     -1.905818   \n",
       "Normal      0.182100      0.945539     -0.201385      1.510525     -0.571478   \n",
       "Normal      0.599987     -0.768383     -0.836130      1.810582     -0.787033   \n",
       "Normal      1.311427     -0.018429     -0.323289      0.236225     -0.752582   \n",
       "\n",
       "        feature_2_35  feature_2_36  feature_2_37  feature_2_38  feature_2_39  \n",
       "Normal      0.047305      0.239624     -0.978221     -1.523000      0.162363  \n",
       "Normal     -0.568086     -0.515757      1.263930      0.150698      0.695518  \n",
       "Normal      0.665589      0.003616      1.546672      0.214406     -1.877313  \n",
       "Normal     -0.584771     -1.708321      1.629982      0.397998      0.237780  \n",
       "Normal      0.045113      3.427539      0.604682      1.668311     -0.355083  \n",
       "\n",
       "[5 rows x 40 columns]"
      ]
     },
     "execution_count": 7,
     "metadata": {},
     "output_type": "execute_result"
    }
   ],
   "source": [
    "dataset2.head()"
   ]
  },
  {
   "cell_type": "code",
   "execution_count": 8,
   "id": "827b1c24-500f-47ba-a193-c3d25b477889",
   "metadata": {
    "execution": {
     "iopub.execute_input": "2025-05-24T00:13:19.431820Z",
     "iopub.status.busy": "2025-05-24T00:13:19.431568Z",
     "iopub.status.idle": "2025-05-24T00:13:19.439429Z",
     "shell.execute_reply": "2025-05-24T00:13:19.439099Z",
     "shell.execute_reply.started": "2025-05-24T00:13:19.431805Z"
    }
   },
   "outputs": [],
   "source": [
    "from sklearn.model_selection import train_test_split\n",
    "# create train/test datasets for each modality\n",
    "# To perform the MESA multimodal integration later, the label for each dataset should be matched\n",
    "train_index, test_index, y_train, y_test = train_test_split(\n",
    "    np.arange(100), label, test_size=0.2, random_state=42,shuffle=True\n",
    ")\n",
    "dataset1_train, dataset1_test = dataset1.iloc[train_index], dataset1.iloc[test_index]\n",
    "dataset2_train, dataset2_test = dataset2.iloc[train_index], dataset2.iloc[test_index]"
   ]
  },
  {
   "attachments": {},
   "cell_type": "markdown",
   "id": "9525830a",
   "metadata": {},
   "source": [
    "# Run MESA\n"
   ]
  },
  {
   "attachments": {},
   "cell_type": "markdown",
   "id": "82b4a0e3",
   "metadata": {},
   "source": [
    "## Single modality\n"
   ]
  },
  {
   "cell_type": "code",
   "execution_count": 9,
   "id": "83b19681",
   "metadata": {
    "ExecuteTime": {
     "end_time": "2022-07-21T05:57:05.526873Z",
     "start_time": "2022-07-21T05:57:05.522995Z"
    },
    "execution": {
     "iopub.execute_input": "2025-05-24T00:13:21.813486Z",
     "iopub.status.busy": "2025-05-24T00:13:21.813216Z",
     "iopub.status.idle": "2025-05-24T00:13:21.815416Z",
     "shell.execute_reply": "2025-05-24T00:13:21.815022Z",
     "shell.execute_reply.started": "2025-05-24T00:13:21.813471Z"
    },
    "run_control": {
     "marked": false
    }
   },
   "outputs": [],
   "source": [
    "random_state = 0"
   ]
  },
  {
   "cell_type": "code",
   "execution_count": 16,
   "id": "8b3bef47",
   "metadata": {
    "ExecuteTime": {
     "end_time": "2022-07-21T06:05:43.013124Z",
     "start_time": "2022-07-21T05:57:20.087340Z"
    },
    "execution": {
     "iopub.execute_input": "2025-05-24T00:16:40.823450Z",
     "iopub.status.busy": "2025-05-24T00:16:40.823158Z",
     "iopub.status.idle": "2025-05-24T00:16:55.676232Z",
     "shell.execute_reply": "2025-05-24T00:16:55.675841Z",
     "shell.execute_reply.started": "2025-05-24T00:16:40.823433Z"
    },
    "scrolled": true
   },
   "outputs": [
    {
     "name": "stderr",
     "output_type": "stream",
     "text": [
      "/dfs10/weil21-lab2/chaoronc/envs/py313/lib/python3.13/site-packages/sklearn/feature_selection/_univariate_selection.py:783: UserWarning: k=2000 is greater than n_features=50. All the features will be returned.\n",
      "  warnings.warn(\n",
      "/dfs10/weil21-lab2/chaoronc/envs/py313/lib/python3.13/site-packages/sklearn/feature_selection/_univariate_selection.py:783: UserWarning: k=2000 is greater than n_features=40. All the features will be returned.\n",
      "  warnings.warn(\n"
     ]
    }
   ],
   "source": [
    "# Construct single modalities\n",
    "# Single modality analysis\n",
    "modality_1 = MESA_modality(\n",
    "    top_n=10,\n",
    "    classifier=RandomForestClassifier(random_state=0),\n",
    "    variance_threshold=0,\n",
    "    normalization=True,\n",
    ")\n",
    "modality_1.fit(dataset1_train, y_train)\n",
    "predictions_1 = modality_1.transform_predict_proba(dataset1_test)\n",
    "\n",
    "modality_2 = MESA_modality(\n",
    "    top_n=20,\n",
    "    classifier=LogisticRegression(random_state=0),\n",
    "    variance_threshold=0,\n",
    "    normalization=False,\n",
    "    missing=0,\n",
    ")\n",
    "modality_2.fit(dataset2_train, y_train)\n",
    "predictions_2 = modality_2.transform_predict_proba(dataset2_test)"
   ]
  },
  {
   "cell_type": "code",
   "execution_count": 39,
   "id": "5538beb3-1c29-48c8-8761-6997b1011143",
   "metadata": {
    "execution": {
     "iopub.execute_input": "2025-05-23T23:54:34.429029Z",
     "iopub.status.busy": "2025-05-23T23:54:34.428855Z",
     "iopub.status.idle": "2025-05-23T23:54:34.432189Z",
     "shell.execute_reply": "2025-05-23T23:54:34.431864Z",
     "shell.execute_reply.started": "2025-05-23T23:54:34.429013Z"
    }
   },
   "outputs": [
    {
     "data": {
      "text/plain": [
       "array([[0.51, 0.49],\n",
       "       [0.66, 0.34],\n",
       "       [0.77, 0.23],\n",
       "       [0.25, 0.75],\n",
       "       [0.9 , 0.1 ],\n",
       "       [0.43, 0.57],\n",
       "       [0.78, 0.22],\n",
       "       [0.12, 0.88],\n",
       "       [0.73, 0.27],\n",
       "       [0.44, 0.56],\n",
       "       [0.12, 0.88],\n",
       "       [0.54, 0.46],\n",
       "       [0.58, 0.42],\n",
       "       [0.75, 0.25],\n",
       "       [0.17, 0.83],\n",
       "       [0.74, 0.26],\n",
       "       [0.42, 0.58],\n",
       "       [0.19, 0.81],\n",
       "       [0.46, 0.54],\n",
       "       [0.84, 0.16]])"
      ]
     },
     "execution_count": 39,
     "metadata": {},
     "output_type": "execute_result"
    }
   ],
   "source": [
    "predictions_1"
   ]
  },
  {
   "cell_type": "code",
   "execution_count": 41,
   "id": "1e8eed47-0b62-47ca-ab54-1b74eea7a8af",
   "metadata": {
    "execution": {
     "iopub.execute_input": "2025-05-24T00:37:01.628686Z",
     "iopub.status.busy": "2025-05-24T00:37:01.628386Z",
     "iopub.status.idle": "2025-05-24T00:37:02.054509Z",
     "shell.execute_reply": "2025-05-24T00:37:02.054131Z",
     "shell.execute_reply.started": "2025-05-24T00:37:01.628669Z"
    }
   },
   "outputs": [
    {
     "data": {
      "image/png": "[encoded data removed]",
      "text/plain": [
       "<Figure size 640x480 with 1 Axes>"
      ]
     },
     "metadata": {},
     "output_type": "display_data"
    }
   ],
   "source": [
    "# ROC curve for modality_1 on dataset1\n",
    "y_pred_1 = predictions_1[:, 1]\n",
    "plot_ROC(y_true=y_test, y_pred = y_pred_1)"
   ]
  },
  {
   "cell_type": "code",
   "execution_count": 42,
   "id": "e981d5cd",
   "metadata": {
    "execution": {
     "iopub.execute_input": "2025-05-24T00:37:03.481171Z",
     "iopub.status.busy": "2025-05-24T00:37:03.480829Z",
     "iopub.status.idle": "2025-05-24T00:37:03.915726Z",
     "shell.execute_reply": "2025-05-24T00:37:03.915364Z",
     "shell.execute_reply.started": "2025-05-24T00:37:03.481155Z"
    }
   },
   "outputs": [
    {
     "data": {
      "image/png": "[encoded data removed]",
      "text/plain": [
       "<Figure size 640x480 with 1 Axes>"
      ]
     },
     "metadata": {},
     "output_type": "display_data"
    }
   ],
   "source": [
    "# ROC curve for modality_2 on dataset1\n",
    "y_pred_2 = predictions_2[:, 1]\n",
    "plot_ROC(y_true=y_test, y_pred = y_pred_2)"
   ]
  },
  {
   "attachments": {},
   "cell_type": "markdown",
   "id": "ca1273bc",
   "metadata": {},
   "source": [
    "## Multimodality\n"
   ]
  },
  {
   "cell_type": "code",
   "execution_count": 38,
   "id": "e31c1800",
   "metadata": {
    "ExecuteTime": {
     "end_time": "2022-07-21T06:14:18.428546Z",
     "start_time": "2022-07-21T06:14:12.642122Z"
    },
    "execution": {
     "iopub.execute_input": "2025-05-24T00:34:11.345243Z",
     "iopub.status.busy": "2025-05-24T00:34:11.344904Z",
     "iopub.status.idle": "2025-05-24T00:34:37.900067Z",
     "shell.execute_reply": "2025-05-24T00:34:37.899499Z",
     "shell.execute_reply.started": "2025-05-24T00:34:11.345228Z"
    },
    "scrolled": true
   },
   "outputs": [
    {
     "name": "stderr",
     "output_type": "stream",
     "text": [
      "/dfs10/weil21-lab2/chaoronc/envs/py313/lib/python3.13/site-packages/sklearn/feature_selection/_univariate_selection.py:783: UserWarning: k=2000 is greater than n_features=50. All the features will be returned.\n",
      "  warnings.warn(\n",
      "/dfs10/weil21-lab2/chaoronc/envs/py313/lib/python3.13/site-packages/sklearn/feature_selection/_univariate_selection.py:783: UserWarning: k=2000 is greater than n_features=40. All the features will be returned.\n",
      "  warnings.warn(\n"
     ]
    }
   ],
   "source": [
    "# Define modality-specific configurations\n",
    "modalities = [\n",
    "    modality_1,\n",
    "    modality_2\n",
    "]\n",
    "\n",
    "# Create MESA ensemble\n",
    "mesa = MESA(\n",
    "    modalities=modalities,\n",
    "    meta_estimator=LogisticRegression(random_state=42),\n",
    "    random_state=42\n",
    ")\n",
    "\n",
    "# Fit the ensemble\n",
    "X_list = [dataset1_train, dataset2_train]\n",
    "mesa.fit(X_list, y_train)\n",
    "X_test_list = [dataset1_test, dataset2_test]\n",
    "mesa_prediction = mesa.predict_proba(X_test_list)"
   ]
  },
  {
   "cell_type": "code",
   "execution_count": 39,
   "id": "7351511c",
   "metadata": {
    "execution": {
     "iopub.execute_input": "2025-05-24T00:35:29.932141Z",
     "iopub.status.busy": "2025-05-24T00:35:29.931842Z",
     "iopub.status.idle": "2025-05-24T00:35:30.620137Z",
     "shell.execute_reply": "2025-05-24T00:35:30.619745Z",
     "shell.execute_reply.started": "2025-05-24T00:35:29.932120Z"
    }
   },
   "outputs": [
    {
     "data": {
      "image/png": "[encoded data removed]",
      "text/plain": [
       "<Figure size 640x480 with 1 Axes>"
      ]
     },
     "metadata": {},
     "output_type": "display_data"
    }
   ],
   "source": [
    "# ROC curve for modality_2 on dataset1\n",
    "y_pred_mesa = mesa_prediction[:, 1]\n",
    "plot_ROC(y_true=y_test, y_pred = y_pred_mesa)"
   ]
  },
  {
   "attachments": {},
   "cell_type": "markdown",
   "id": "bce10e46",
   "metadata": {},
   "source": [
    "## Let's plot them together\n"
   ]
  },
  {
   "attachments": {},
   "cell_type": "markdown",
   "id": "71af71e2",
   "metadata": {},
   "source": [
    "We can see that the prediction accuaracy/AUC increased dramatically as it took informatic features from both datasets after integration(Logistic Regression(LR) as base estimator for example)\n"
   ]
  },
  {
   "cell_type": "code",
   "execution_count": 43,
   "id": "8a82e81e",
   "metadata": {
    "ExecuteTime": {
     "end_time": "2022-07-21T06:41:55.070715Z",
     "start_time": "2022-07-21T06:41:54.886422Z"
    },
    "execution": {
     "iopub.execute_input": "2025-05-24T00:37:06.731475Z",
     "iopub.status.busy": "2025-05-24T00:37:06.731117Z",
     "iopub.status.idle": "2025-05-24T00:37:07.557822Z",
     "shell.execute_reply": "2025-05-24T00:37:07.557477Z",
     "shell.execute_reply.started": "2025-05-24T00:37:06.731458Z"
    }
   },
   "outputs": [
    {
     "data": {
      "image/png": "[encoded data removed]",
      "text/plain": [
       "<Figure size 640x480 with 1 Axes>"
      ]
     },
     "metadata": {},
     "output_type": "display_data"
    }
   ],
   "source": [
    "fpr, tpr, _ = roc_curve(y_test, y_pred_1)\n",
    "auc = roc_auc_score(y_test, y_pred_1)\n",
    "plt.plot(fpr, tpr, label=\"AUC(LR)for dataset1=\" + str(auc))\n",
    "\n",
    "fpr, tpr, _ = roc_curve(y_test, y_pred_2)\n",
    "auc = roc_auc_score(y_test, y_pred_2)\n",
    "plt.plot(fpr, tpr, label=\"AUC(LR) for dataset2=\" + str(auc))\n",
    "\n",
    "fpr, tpr, _ = roc_curve(y_test, y_pred_mesa)\n",
    "auc = roc_auc_score(y_test, y_pred_mesa)\n",
    "plt.plot(fpr, tpr, label=\"AUC for integration=\" + str(auc))\n",
    "\n",
    "plt.ylabel(\"True Positive Rate\")\n",
    "plt.xlabel(\"False Positive Rate\")\n",
    "plt.legend(loc=4)\n",
    "plt.show()\n"
   ]
  },
  {
   "cell_type": "code",
   "execution_count": null,
   "id": "c7da6c9d",
   "metadata": {},
   "outputs": [],
   "source": []
  },
  {
   "cell_type": "code",
   "execution_count": null,
   "id": "79a63d30",
   "metadata": {},
   "outputs": [],
   "source": []
  }
 ],
 "metadata": {
  "kernelspec": {
   "display_name": "py313",
   "language": "python",
   "name": "py313"
  },
  "language_info": {
   "codemirror_mode": {
    "name": "ipython",
    "version": 3
   },
   "file_extension": ".py",
   "mimetype": "text/x-python",
   "name": "python",
   "nbconvert_exporter": "python",
   "pygments_lexer": "ipython3",
   "version": "3.13.0"
  },
  "toc": {
   "base_numbering": 1,
   "nav_menu": {},
   "number_sections": true,
   "sideBar": true,
   "skip_h1_title": false,
   "title_cell": "Table of Contents",
   "title_sidebar": "Contents",
   "toc_cell": false,
   "toc_position": {},
   "toc_section_display": true,
   "toc_window_display": false
  },
  "varInspector": {
   "cols": {
    "lenName": 16,
    "lenType": 16,
    "lenVar": 40
   },
   "kernels_config": {
    "python": {
     "delete_cmd_postfix": "",
     "delete_cmd_prefix": "del ",
     "library": "var_list.py",
     "varRefreshCmd": "print(var_dic_list())"
    },
    "r": {
     "delete_cmd_postfix": ") ",
     "delete_cmd_prefix": "rm(",
     "library": "var_list.r",
     "varRefreshCmd": "cat(var_dic_list()) "
    }
   },
   "types_to_exclude": [
    "module",
    "function",
    "builtin_function_or_method",
    "instance",
    "_Feature"
   ],
   "window_display": false
  },
  "vscode": {
   "interpreter": {
    "hash": "54fdf51369e20f2a86e21e41a64cc0b073c477ee58d8721023ae9037e9a672dd"
   }
  }
 },
 "nbformat": 4,
 "nbformat_minor": 5
}
